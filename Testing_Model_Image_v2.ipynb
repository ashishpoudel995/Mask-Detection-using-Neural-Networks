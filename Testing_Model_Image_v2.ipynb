{
 "cells": [
  {
   "cell_type": "code",
   "execution_count": 1,
   "metadata": {},
   "outputs": [],
   "source": [
    "from tensorflow.keras.applications.mobilenet_v2 import preprocess_input\n",
    "from tensorflow.keras.preprocessing.image import img_to_array\n",
    "from tensorflow.keras.models import load_model\n",
    "import numpy as np\n",
    "import cv2\n",
    "import os"
   ]
  },
  {
   "cell_type": "code",
   "execution_count": 2,
   "metadata": {},
   "outputs": [],
   "source": [
    "prototxtPath=os.path.sep.join([r'./','deploy.prototxt'])\n",
    "weightsPath=os.path.sep.join([r'./','res10_300x300_ssd_iter_140000.caffemodel'])\n"
   ]
  },
  {
   "cell_type": "code",
   "execution_count": 3,
   "metadata": {},
   "outputs": [
    {
     "data": {
      "text/plain": [
       "'./\\\\deploy.prototxt'"
      ]
     },
     "execution_count": 3,
     "metadata": {},
     "output_type": "execute_result"
    }
   ],
   "source": [
    "prototxtPath"
   ]
  },
  {
   "cell_type": "code",
   "execution_count": 4,
   "metadata": {},
   "outputs": [
    {
     "data": {
      "text/plain": [
       "'./\\\\res10_300x300_ssd_iter_140000.caffemodel'"
      ]
     },
     "execution_count": 4,
     "metadata": {},
     "output_type": "execute_result"
    }
   ],
   "source": [
    "weightsPath"
   ]
  },
  {
   "cell_type": "code",
   "execution_count": 5,
   "metadata": {},
   "outputs": [],
   "source": [
    "net=cv2.dnn.readNet(prototxtPath,weightsPath)"
   ]
  },
  {
   "cell_type": "code",
   "execution_count": 6,
   "metadata": {},
   "outputs": [],
   "source": [
    "model=load_model(r'./mobilenet_v2.model')"
   ]
  },
  {
   "cell_type": "code",
   "execution_count": 7,
   "metadata": {},
   "outputs": [],
   "source": [
    "image=cv2.imread(r'./Example Images/example_04.jpg')"
   ]
  },
  {
   "cell_type": "code",
   "execution_count": 8,
   "metadata": {},
   "outputs": [
    {
     "data": {
      "text/plain": [
       "array([[[229, 218, 196],\n",
       "        [229, 218, 196],\n",
       "        [229, 218, 196],\n",
       "        ...,\n",
       "        [208, 188, 163],\n",
       "        [208, 188, 163],\n",
       "        [208, 188, 163]],\n",
       "\n",
       "       [[230, 219, 197],\n",
       "        [230, 219, 197],\n",
       "        [230, 219, 197],\n",
       "        ...,\n",
       "        [209, 189, 164],\n",
       "        [209, 189, 164],\n",
       "        [209, 189, 164]],\n",
       "\n",
       "       [[231, 220, 198],\n",
       "        [231, 220, 198],\n",
       "        [231, 220, 198],\n",
       "        ...,\n",
       "        [211, 191, 166],\n",
       "        [211, 191, 166],\n",
       "        [211, 191, 166]],\n",
       "\n",
       "       ...,\n",
       "\n",
       "       [[108,  64,  23],\n",
       "        [117,  74,  31],\n",
       "        [132,  87,  44],\n",
       "        ...,\n",
       "        [167, 146, 125],\n",
       "        [167, 146, 125],\n",
       "        [167, 146, 125]],\n",
       "\n",
       "       [[ 99,  55,  14],\n",
       "        [109,  66,  23],\n",
       "        [124,  79,  36],\n",
       "        ...,\n",
       "        [165, 144, 123],\n",
       "        [165, 144, 123],\n",
       "        [165, 144, 123]],\n",
       "\n",
       "       [[ 97,  53,  12],\n",
       "        [108,  65,  22],\n",
       "        [126,  78,  36],\n",
       "        ...,\n",
       "        [164, 143, 122],\n",
       "        [164, 143, 122],\n",
       "        [164, 143, 122]]], dtype=uint8)"
      ]
     },
     "execution_count": 8,
     "metadata": {},
     "output_type": "execute_result"
    }
   ],
   "source": [
    "image"
   ]
  },
  {
   "cell_type": "code",
   "execution_count": 9,
   "metadata": {},
   "outputs": [],
   "source": [
    "(h,w)=image.shape[:2]"
   ]
  },
  {
   "cell_type": "code",
   "execution_count": 10,
   "metadata": {},
   "outputs": [
    {
     "data": {
      "text/plain": [
       "(408, 612)"
      ]
     },
     "execution_count": 10,
     "metadata": {},
     "output_type": "execute_result"
    }
   ],
   "source": [
    "(h,w)"
   ]
  },
  {
   "cell_type": "code",
   "execution_count": 11,
   "metadata": {},
   "outputs": [],
   "source": [
    "blob=cv2.dnn.blobFromImage(image,1.0,(300,300),(104.0,177.0,123.0))"
   ]
  },
  {
   "cell_type": "code",
   "execution_count": 12,
   "metadata": {},
   "outputs": [
    {
     "data": {
      "text/plain": [
       "array([[[[ 125.,  125.,  125., ...,  106.,  104.,  104.],\n",
       "         [ 126.,  126.,  126., ...,  108.,  106.,  106.],\n",
       "         [ 129.,  129.,  129., ...,  110.,  109.,  109.],\n",
       "         ...,\n",
       "         [  10.,   34.,   55., ...,   66.,   65.,   65.],\n",
       "         [   5.,   30.,   48., ...,   63.,   62.,   62.],\n",
       "         [  -1.,   27.,   45., ...,   59.,   60.,   60.]],\n",
       "\n",
       "        [[  41.,   41.,   41., ...,   13.,   11.,   11.],\n",
       "         [  42.,   42.,   42., ...,   15.,   13.,   13.],\n",
       "         [  45.,   45.,   45., ...,   17.,   16.,   16.],\n",
       "         ...,\n",
       "         [-104.,  -82.,  -64., ...,  -29.,  -29.,  -29.],\n",
       "         [-112.,  -89.,  -73., ...,  -32.,  -32.,  -32.],\n",
       "         [-118.,  -93.,  -77., ...,  -36.,  -34.,  -34.]],\n",
       "\n",
       "        [[  73.,   73.,   73., ...,   42.,   40.,   40.],\n",
       "         [  74.,   74.,   74., ...,   44.,   42.,   42.],\n",
       "         [  77.,   77.,   77., ...,   46.,   45.,   45.],\n",
       "         ...,\n",
       "         [ -89.,  -71.,  -56., ...,    7.,    4.,    4.],\n",
       "         [-100.,  -80.,  -68., ...,    4.,    1.,    1.],\n",
       "         [-106.,  -84.,  -72., ...,    0.,   -1.,   -1.]]]], dtype=float32)"
      ]
     },
     "execution_count": 12,
     "metadata": {},
     "output_type": "execute_result"
    }
   ],
   "source": [
    "blob"
   ]
  },
  {
   "cell_type": "code",
   "execution_count": 13,
   "metadata": {},
   "outputs": [
    {
     "data": {
      "text/plain": [
       "(1, 3, 300, 300)"
      ]
     },
     "execution_count": 13,
     "metadata": {},
     "output_type": "execute_result"
    }
   ],
   "source": [
    "blob.shape"
   ]
  },
  {
   "cell_type": "code",
   "execution_count": 14,
   "metadata": {},
   "outputs": [],
   "source": [
    "net.setInput(blob)\n",
    "detections=net.forward()"
   ]
  },
  {
   "cell_type": "code",
   "execution_count": 15,
   "metadata": {},
   "outputs": [
    {
     "data": {
      "text/plain": [
       "array([[[[0.        , 1.        , 0.9975535 , ..., 0.11296627,\n",
       "          0.5337728 , 0.76351976],\n",
       "         [0.        , 1.        , 0.14875261, ..., 0.39725092,\n",
       "          0.7498472 , 1.1502688 ],\n",
       "         [0.        , 1.        , 0.12599725, ..., 4.0076222 ,\n",
       "          4.8433027 , 4.982023  ],\n",
       "         ...,\n",
       "         [0.        , 0.        , 0.        , ..., 0.        ,\n",
       "          0.        , 0.        ],\n",
       "         [0.        , 0.        , 0.        , ..., 0.        ,\n",
       "          0.        , 0.        ],\n",
       "         [0.        , 0.        , 0.        , ..., 0.        ,\n",
       "          0.        , 0.        ]]]], dtype=float32)"
      ]
     },
     "execution_count": 15,
     "metadata": {},
     "output_type": "execute_result"
    }
   ],
   "source": [
    "detections"
   ]
  },
  {
   "cell_type": "code",
   "execution_count": 16,
   "metadata": {},
   "outputs": [
    {
     "name": "stdout",
     "output_type": "stream",
     "text": [
      "Mask: 0.20030244\n",
      "No Mask: 0.76538193\n",
      "Weared Incorrectly: 0.03431567\n"
     ]
    }
   ],
   "source": [
    "#loop over the detections\n",
    "for i in range(0,detections.shape[2]):\n",
    "    confidence=detections[0,0,i,2]\n",
    "    \n",
    "    \n",
    "    if confidence>0.5:\n",
    "        #we need the X,Y coordinates\n",
    "        box=detections[0,0,i,3:7]*np.array([w,h,w,h])\n",
    "        (startX,startY,endX,endY)=box.astype('int')\n",
    "        \n",
    "        #ensure the bounding boxes fall within the dimensions of the frame\n",
    "        (startX,startY)=(max(0,startX),max(0,startY))\n",
    "        (endX,endY)=(min(w-1,endX), min(h-1,endY))\n",
    "        \n",
    "        \n",
    "        #extract the face ROI, convert it from BGR to RGB channel, resize it to 224,224 and preprocess it\n",
    "        face=image[startY:endY, startX:endX]\n",
    "        face=cv2.cvtColor(face,cv2.COLOR_BGR2RGB)\n",
    "        face=cv2.resize(face,(224,224))\n",
    "        face=img_to_array(face)\n",
    "        face=preprocess_input(face)\n",
    "        face=np.expand_dims(face,axis=0)\n",
    "        \n",
    "        (mask,withoutMask,wearedIncorrect)=model.predict(face)[0]\n",
    "        \n",
    "        print(\"Mask:\",mask)\n",
    "        print(\"No Mask:\",withoutMask)\n",
    "        print(\"Weared Incorrectly:\",wearedIncorrect)\n",
    "\n",
    "        #determine the class label and color we will use to draw the bounding box and text\n",
    "        if mask>withoutMask and mask>wearedIncorrect:\n",
    "            label='Mask'\n",
    "            color=(0,255,0)\n",
    "        elif withoutMask>mask and withoutMask>wearedIncorrect:\n",
    "            label='No mask'\n",
    "            color=(0,0,255)\n",
    "        else:\n",
    "            label='Mask Weared Incorrectly'\n",
    "            color=(255,0,0)\n",
    "        \n",
    "        #include the probability in the label\n",
    "        label=\"{}: {:.2f}%\".format(label,max(mask,withoutMask,wearedIncorrect)*100)\n",
    "        \n",
    "        #display the label and bounding boxes\n",
    "        cv2.putText(image,label,(startX,startY-10),cv2.FONT_HERSHEY_SIMPLEX,0.45,color,2)\n",
    "        cv2.rectangle(image,(startX,startY),(endX,endY),color,2)\n",
    "        \n",
    "cv2.imshow(\"OutPut\",image)\n",
    "cv2.waitKey(0)\n",
    "cv2.destroyAllWindows()"
   ]
  }
 ],
 "metadata": {
  "kernelspec": {
   "display_name": "Python 3",
   "language": "python",
   "name": "python3"
  },
  "language_info": {
   "codemirror_mode": {
    "name": "ipython",
    "version": 3
   },
   "file_extension": ".py",
   "mimetype": "text/x-python",
   "name": "python",
   "nbconvert_exporter": "python",
   "pygments_lexer": "ipython3",
   "version": "3.7.9"
  }
 },
 "nbformat": 4,
 "nbformat_minor": 2
}
